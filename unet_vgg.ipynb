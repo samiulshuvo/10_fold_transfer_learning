{
 "cells": [
  {
   "cell_type": "code",
   "execution_count": null,
   "id": "ae9d6172",
   "metadata": {},
   "outputs": [],
   "source": [
    "# !pip install segmentation-models"
   ]
  },
  {
   "cell_type": "code",
   "execution_count": 1,
   "id": "20258858",
   "metadata": {},
   "outputs": [],
   "source": [
    "# from unet import simple_unet_model\n",
    "import numpy as np\n",
    "from matplotlib import pyplot as plt\n",
    "from patchify import patchify\n",
    "import tifffile as tiff\n",
    "\n",
    "import tensorflow as tf\n",
    "import pandas as pd\n",
    "import glob\n",
    "from sklearn.model_selection import train_test_split"
   ]
  },
  {
   "cell_type": "code",
   "execution_count": 2,
   "id": "1f09ecb5",
   "metadata": {},
   "outputs": [],
   "source": [
    "IMG_HEIGHT = 512\n",
    "IMG_WIDTH = 512\n",
    "IMG_CHANNELS = 3"
   ]
  },
  {
   "cell_type": "code",
   "execution_count": 3,
   "id": "e403d26c",
   "metadata": {},
   "outputs": [],
   "source": [
    "import cv2\n",
    "\n",
    "# Define the desired shape\n",
    "def img_read(path):\n",
    "    desired_shape = (IMG_WIDTH, IMG_HEIGHT)\n",
    "\n",
    "    # Load the image\n",
    "    image = cv2.imread(path,)\n",
    "    img=cv2.cvtColor(image, cv2.COLOR_BGR2RGB) \n",
    "    # Resize the image to the desired shape\n",
    "    desired_size = (IMG_WIDTH, IMG_HEIGHT)\n",
    "\n",
    "\n",
    "\n",
    "    # Convert the image to a numpy array for further processing\n",
    "    return cv2.resize(img,desired_shape, interpolation=cv2.INTER_AREA)\n",
    "def msk_read(path):\n",
    "    img = cv2.imread(path,cv2.IMREAD_GRAYSCALE)\n",
    "    desired_size = (IMG_WIDTH, IMG_HEIGHT)\n",
    " \n",
    "    resized_image = cv2.resize(img, desired_size, interpolation=cv2.INTER_AREA)\n",
    "\n",
    "    # Convert the image to a numpy array for further processing\n",
    "    return resized_image"
   ]
  },
  {
   "cell_type": "code",
   "execution_count": 4,
   "id": "37589b7f",
   "metadata": {},
   "outputs": [],
   "source": [
    "large_image_stack = []\n",
    "large_mask_stack = []\n",
    "import os\n",
    "mask_file_names=os.listdir(\"Ocular_Toxoplasmosis_Data_V3\\\\segmentation_task\\\\mask_aug\\\\\")\n",
    "X=[]\n",
    "y=[]\n",
    "\n",
    "for i in mask_file_names:\n",
    "    try:\n",
    "        p=os.path.join(\"Ocular_Toxoplasmosis_Data_V3\\\\segmentation_task\\\\img_aug\\\\\",i)\n",
    "        X.append(os.path.join(\"Ocular_Toxoplasmosis_Data_V3\\\\segmentation_task\\\\img_aug\\\\\",i))\n",
    "        y.append(os.path.join(\"Ocular_Toxoplasmosis_Data_V3\\\\segmentation_task\\\\mask_aug\\\\\",i))\n",
    "        \n",
    "        \n",
    "    except:\n",
    "        print(f'{i} does not exist in image')\n",
    "\n",
    "\n",
    "\n",
    "for file_path in X:   \n",
    "    #print('0')\n",
    "    signal = img_read(file_path)/255.\n",
    "    \n",
    "    large_image_stack.append(signal)\n",
    "\n",
    "\n",
    "for file_path in y:   \n",
    "    #print('1')\n",
    "    signal = msk_read(file_path)/255.\n",
    "    large_mask_stack.append(signal)\n",
    "   \n"
   ]
  },
  {
   "cell_type": "code",
   "execution_count": 5,
   "id": "d760ed16",
   "metadata": {},
   "outputs": [],
   "source": [
    "large_image_stack=np.array(large_image_stack)\n",
    "large_mask_stack=np.array(large_mask_stack)\n",
    "large_mask_stack=np.expand_dims(large_mask_stack, -1)"
   ]
  },
  {
   "cell_type": "code",
   "execution_count": 6,
   "id": "1a363807",
   "metadata": {},
   "outputs": [],
   "source": [
    "# all_img_patches = []\n",
    "# for img in range(large_image_stack.shape[0]):\n",
    "#     #print(img)     #just stop here to see all file names printed\n",
    "     \n",
    "#     large_image = large_image_stack[img]\n",
    "    \n",
    "#     patches_img = patchify(large_image, (512, 512,3), step=256)  #Step=256 for 256 patches means no overlap\n",
    "#     patches_img=np.squeeze(patches_img)\n",
    "\n",
    "#     for i in range(patches_img.shape[0]):\n",
    "#         for j in range(patches_img.shape[1]):\n",
    "            \n",
    "#             single_patch_img = patches_img[i,j,:,:]\n",
    "# #             single_patch_img = single_patch_img / 255.\n",
    "            \n",
    "#             all_img_patches.append(single_patch_img)"
   ]
  },
  {
   "cell_type": "code",
   "execution_count": 7,
   "id": "8c18c555",
   "metadata": {},
   "outputs": [
    {
     "data": {
      "text/plain": [
       "(1480, 512, 512, 3)"
      ]
     },
     "execution_count": 7,
     "metadata": {},
     "output_type": "execute_result"
    }
   ],
   "source": [
    "large_image_stack.shape"
   ]
  },
  {
   "cell_type": "code",
   "execution_count": 8,
   "id": "e940468a",
   "metadata": {},
   "outputs": [],
   "source": [
    "# all_img_patches=np.array(all_img_patches)\n",
    "# all_mask_patches=np.array(all_mask_patches)\n",
    "# all_mask_patches=np.expand_dims(all_mask_patches,-1)"
   ]
  },
  {
   "cell_type": "code",
   "execution_count": 9,
   "id": "f717e4bb",
   "metadata": {},
   "outputs": [
    {
     "data": {
      "text/plain": [
       "((1480, 512, 512, 3), (1480, 512, 512, 1))"
      ]
     },
     "execution_count": 9,
     "metadata": {},
     "output_type": "execute_result"
    }
   ],
   "source": [
    "large_image_stack.shape, large_mask_stack.shape"
   ]
  },
  {
   "cell_type": "code",
   "execution_count": null,
   "id": "b7079041",
   "metadata": {},
   "outputs": [],
   "source": []
  },
  {
   "cell_type": "code",
   "execution_count": 10,
   "id": "b103a153",
   "metadata": {},
   "outputs": [
    {
     "name": "stdout",
     "output_type": "stream",
     "text": [
      "Segmentation Models: using `keras` framework.\n"
     ]
    }
   ],
   "source": [
    "import segmentation_models as sm"
   ]
  },
  {
   "cell_type": "code",
   "execution_count": 14,
   "id": "2b819550",
   "metadata": {},
   "outputs": [],
   "source": [
    "BACKBONE='vgg16'\n",
    "preprocess_input1=sm.get_preprocessing(BACKBONE)\n"
   ]
  },
  {
   "cell_type": "code",
   "execution_count": 15,
   "id": "34d52eac",
   "metadata": {},
   "outputs": [],
   "source": [
    "images1=preprocess_input1(large_image_stack)"
   ]
  },
  {
   "cell_type": "code",
   "execution_count": 16,
   "id": "fe241df7",
   "metadata": {},
   "outputs": [],
   "source": [
    "X_train, X_test, y_train, y_test=train_test_split(images1,large_mask_stack,random_state=42, test_size=0.25)"
   ]
  },
  {
   "cell_type": "code",
   "execution_count": 17,
   "id": "597b75da",
   "metadata": {},
   "outputs": [],
   "source": [
    "X_train_g=X_train #[:,:,:,1]\n",
    "X_test_g=X_test\n",
    "# X_test_g=np.expand_dims(X_test[:,:,:,1],-1)"
   ]
  },
  {
   "cell_type": "code",
   "execution_count": 18,
   "id": "3f750b93",
   "metadata": {},
   "outputs": [],
   "source": [
    "# X_train_g=np.zeros_like(X_train)\n",
    "# X_train_g[:,:, :, 1]=X_train[:,:, :, 1]\n",
    "# X_test_g=np.zeros_like(X_test)\n",
    "\n",
    "# X_train_g[:,:, :, 1]=X_train[:,:, :, 1]\n",
    "# X_test_g[:,:, :, 1]=X_test[:,:, :, 1]"
   ]
  },
  {
   "cell_type": "code",
   "execution_count": 19,
   "id": "a1af0b06",
   "metadata": {},
   "outputs": [
    {
     "data": {
      "text/plain": [
       "((1110, 512, 512, 3),\n",
       " (1110, 512, 512, 1),\n",
       " (370, 512, 512, 3),\n",
       " (370, 512, 512, 1))"
      ]
     },
     "execution_count": 19,
     "metadata": {},
     "output_type": "execute_result"
    }
   ],
   "source": [
    "X_train_g.shape,y_train.shape,X_test_g.shape,y_test.shape"
   ]
  },
  {
   "cell_type": "code",
   "execution_count": 20,
   "id": "8ac9bc87",
   "metadata": {},
   "outputs": [],
   "source": [
    "import random\n",
    "import numpy as np"
   ]
  },
  {
   "cell_type": "code",
   "execution_count": 21,
   "id": "490e3060",
   "metadata": {},
   "outputs": [
    {
     "name": "stderr",
     "output_type": "stream",
     "text": [
      "Clipping input data to the valid range for imshow with RGB data ([0..1] for floats or [0..255] for integers).\n"
     ]
    },
    {
     "data": {
      "image/png": "[encoded data removed]",
      "text/plain": [
       "<Figure size 1200x600 with 2 Axes>"
      ]
     },
     "metadata": {},
     "output_type": "display_data"
    }
   ],
   "source": [
    "rng=random.randint(0,X_train_g.shape[0])\n",
    "plt.figure(figsize=(12,6))\n",
    "plt.subplot(121)\n",
    "plt.imshow(X_train_g[rng],cmap='gray')\n",
    "plt.subplot(122)\n",
    "plt.imshow(y_train[rng]);"
   ]
  },
  {
   "cell_type": "code",
   "execution_count": null,
   "id": "222fbf30",
   "metadata": {},
   "outputs": [],
   "source": [
    "seed=24\n",
    "from keras.preprocessing.image import ImageDataGenerator\n",
    "\n",
    "\n",
    "# img_data_gen_args=dict(\n",
    "#                       rotation_range=90,\n",
    "\n",
    "# #                       shear_range=0.5,\n",
    "#                       zoom_range=0.3,\n",
    "#                       horizontal_flip=True,\n",
    "#                       vertical_flip=True,\n",
    "# #                       fill_mode='reflect'\n",
    "#                       )\n",
    "\n",
    "\n",
    "# mask_data_gen_args=dict(\n",
    "#                       rotation_range=90,\n",
    "#                       width_shift_range=0.3,\n",
    "#                       height_shift_range=0.3,\n",
    "# #                       shear_range=0.5,\n",
    "#                       zoom_range=0.3,\n",
    "#                       horizontal_flip=True,\n",
    "#                       vertical_flip=True,\n",
    "# #                       fill_mode='reflect',\n",
    "#                        preprocessing_function=lambda x:np.where(x>0,1,0).astype(x.dtype))"
   ]
  },
  {
   "cell_type": "code",
   "execution_count": null,
   "id": "5d348f08",
   "metadata": {},
   "outputs": [],
   "source": [
    "image_data_generator=ImageDataGenerator()\n",
    "image_data_generator.fit(X_train,augment=False,seed=seed)\n",
    "\n",
    "image_generator=image_data_generator.flow(X_train_g,seed=seed)\n",
    "valid_img_generator=image_data_generator.flow(X_test,seed=seed)"
   ]
  },
  {
   "cell_type": "code",
   "execution_count": null,
   "id": "6256b8b7",
   "metadata": {},
   "outputs": [],
   "source": [
    "mask_data_generator=ImageDataGenerator()\n",
    "mask_data_generator.fit(y_train,augment=False,seed=seed)\n",
    "\n",
    "mask_generator=mask_data_generator.flow(y_train,seed=seed)\n",
    "valid_mask_generator=mask_data_generator.flow(y_test,seed=seed)"
   ]
  },
  {
   "cell_type": "code",
   "execution_count": null,
   "id": "ec35c136",
   "metadata": {},
   "outputs": [],
   "source": [
    "def my_image_generator(image_generator, mask_generator):\n",
    "    train_generator=zip(image_generator, mask_generator)\n",
    "    \n",
    "    for (img, mask) in train_generator:\n",
    "        yield (img, mask)"
   ]
  },
  {
   "cell_type": "code",
   "execution_count": null,
   "id": "cd2aa6a2",
   "metadata": {},
   "outputs": [],
   "source": [
    "my_generator=my_image_generator(image_generator, mask_generator)\n",
    "\n",
    "validation_datagen=my_image_generator(valid_img_generator, valid_mask_generator)"
   ]
  },
  {
   "cell_type": "code",
   "execution_count": null,
   "id": "d6a1d055",
   "metadata": {},
   "outputs": [],
   "source": [
    "x=image_generator.next()\n",
    "y=mask_generator.next()\n",
    "\n",
    "for i in range(0,1):\n",
    "    image=x[i]\n",
    "    mask=y[i]\n",
    "    print(image.shape)\n",
    "    plt.subplot(121)\n",
    "    plt.imshow(image)\n",
    "    plt.subplot(122)\n",
    "    plt.imshow(mask)"
   ]
  },
  {
   "cell_type": "code",
   "execution_count": null,
   "id": "ecd569c8",
   "metadata": {},
   "outputs": [],
   "source": [
    "from tensorflow.keras.layers import Conv2D, BatchNormalization, Activation, MaxPool2D, Conv2DTranspose, Concatenate, Input\n",
    "from tensorflow.keras.models import Model\n",
    "from tensorflow.keras.applications import VGG16"
   ]
  },
  {
   "cell_type": "code",
   "execution_count": null,
   "id": "4e62aa41",
   "metadata": {},
   "outputs": [],
   "source": [
    "def conv_block(inputs, num_filters):\n",
    "    x = Conv2D(num_filters, 3, padding=\"same\")(inputs)\n",
    "    x = BatchNormalization()(x)\n",
    "    x = Activation(\"relu\")(x)\n",
    " \n",
    "    x = Conv2D(num_filters, 3, padding=\"same\")(x)\n",
    "    x = BatchNormalization()(x)\n",
    "    x = Activation(\"relu\")(x)\n",
    " \n",
    "    return x"
   ]
  },
  {
   "cell_type": "code",
   "execution_count": null,
   "id": "53ea7c54",
   "metadata": {},
   "outputs": [],
   "source": [
    "def decoder_block(input, skip_features, num_filters):\n",
    "    x = Conv2DTranspose(num_filters, (2, 2), strides=2, padding=\"same\")(input)\n",
    "    x = Concatenate()([x, skip_features])\n",
    "    x = conv_block(x, num_filters)\n",
    "    return x"
   ]
  },
  {
   "cell_type": "code",
   "execution_count": null,
   "id": "b1064d3e",
   "metadata": {},
   "outputs": [],
   "source": [
    "def build_vgg16_unet(input_shape):\n",
    "    \"\"\" Input \"\"\"\n",
    "    inputs = Input(input_shape)\n",
    "    vgg16 = VGG16(include_top=False, weights=\"imagenet\", input_tensor=inputs)\n",
    "    s1 = vgg16.get_layer(\"block1_conv2\").output         ## (512 x 512)\n",
    "    s2 = vgg16.get_layer(\"block2_conv2\").output         ## (256 x 256)\n",
    "    s3 = vgg16.get_layer(\"block3_conv3\").output         ## (128 x 128)\n",
    "    s4 = vgg16.get_layer(\"block4_conv3\").output         ## (64 x 64)\n",
    "    b1 = vgg16.get_layer(\"block5_conv3\").output\n",
    "    d1 = decoder_block(b1, s4, 512)                     ## (64 x 64)\n",
    "    d2 = decoder_block(d1, s3, 256)                     ## (128 x 128)\n",
    "    d3 = decoder_block(d2, s2, 128)                     ## (256 x 256)\n",
    "    d4 = decoder_block(d3, s1, 64)   \n",
    "    outputs = Conv2D(1, 1, padding=\"same\", activation=\"sigmoid\")(d4)\n",
    "    \n",
    "\n",
    "    model = Model(inputs, outputs, name=\"VGG16_U-Net\")\n",
    "    return model"
   ]
  },
  {
   "cell_type": "code",
   "execution_count": null,
   "id": "a7b88222",
   "metadata": {},
   "outputs": [],
   "source": [
    "input_shape = (256, 256, 3)\n",
    "model = build_vgg16_unet(input_shape)\n",
    "model.summary()"
   ]
  },
  {
   "cell_type": "code",
   "execution_count": null,
   "id": "377acff0",
   "metadata": {},
   "outputs": [],
   "source": []
  },
  {
   "cell_type": "code",
   "execution_count": null,
   "id": "6dccd3b7",
   "metadata": {},
   "outputs": [],
   "source": [
    "BACKBONE='vgg16'\n",
    "preprocess_input1=sm.get_preprocessing(BACKBONE)\n",
    "model=sm.Unet(BACKBONE,encoder_weights='imagenet')\n",
    "model.compile('Adam',loss=sm.losses.bce_dice_loss,metrics=[sm.metrics.iou_score,sm.losses.bce_jaccard_loss])\n",
    "model.summary()"
   ]
  },
  {
   "cell_type": "code",
   "execution_count": null,
   "id": "6c07e5c7",
   "metadata": {},
   "outputs": [],
   "source": [
    "callbacks = [\n",
    "#     tf.keras.callbacks.EarlyStopping(patience=5, verbose=1),\n",
    "#     tf.keras.callbacks.ReduceLROnPlateau(patience=3, verbose=1),\n",
    "    tf.keras.callbacks.ModelCheckpoint('Ocular_Toxoplasmosis_Data_V3\\\\segmentation_task\\\\working\\\\model-Xfer_vgg_dice_loss.h5', verbose=1, save_best_only=True, save_weights_only=True)\n",
    "]\n",
    "history=model.fit(my_generator,validation_data=validation_datagen,steps_per_epoch=50,validation_steps=50, epochs=100,callbacks=callbacks)"
   ]
  },
  {
   "cell_type": "code",
   "execution_count": null,
   "id": "f0de1ef4",
   "metadata": {},
   "outputs": [],
   "source": [
    "model=tf.keras.models.load_model('Ocular_Toxoplasmosis_Data_V3\\\\segmentation_task\\\\working\\\\model-Xfer_dice_loss.h5')"
   ]
  },
  {
   "cell_type": "code",
   "execution_count": null,
   "id": "f795bff2",
   "metadata": {},
   "outputs": [],
   "source": [
    "y_pred=model.predict(X_test)"
   ]
  },
  {
   "cell_type": "code",
   "execution_count": null,
   "id": "3da3824d",
   "metadata": {},
   "outputs": [],
   "source": [
    "y_pred_thresh=y_pred>0.5\n",
    "intersection=np.logical_and(y_test,y_pred_thresh)\n",
    "union=np.logical_or(y_test,y_pred_thresh)\n",
    "iou=np.sum(intersection)/np.sum(union)\n",
    "iou"
   ]
  },
  {
   "cell_type": "code",
   "execution_count": null,
   "id": "57dd3918",
   "metadata": {},
   "outputs": [],
   "source": [
    "test_img_num=random.randint(0,len(X_test)-1)\n",
    "test_img=X_test[test_img_num]\n",
    "test_img_input=np.expand_dims(test_img,0)\n",
    "gt=y_test[test_img_num]\n",
    "yp=model.predict(test_img_input)\n",
    "\n",
    "plt.figure(figsize=(10,7))\n",
    "plt.subplot(121)\n",
    "plt.imshow(yp[0,:,:,0]>.5)\n",
    "plt.subplot(122)\n",
    "plt.imshow(gt[:,:,0])\n"
   ]
  },
  {
   "cell_type": "code",
   "execution_count": null,
   "id": "0b8a129e",
   "metadata": {},
   "outputs": [],
   "source": [
    "yp.shape"
   ]
  },
  {
   "cell_type": "code",
   "execution_count": null,
   "id": "1eedc4c9",
   "metadata": {},
   "outputs": [],
   "source": [
    "plt.imshow(yp[0,:,:,0])"
   ]
  },
  {
   "cell_type": "code",
   "execution_count": null,
   "id": "ac2436d3",
   "metadata": {},
   "outputs": [],
   "source": [
    "plt.imshow(gt[:,:,0])"
   ]
  },
  {
   "cell_type": "code",
   "execution_count": null,
   "id": "cd8d3925",
   "metadata": {},
   "outputs": [],
   "source": [
    "gt.shape"
   ]
  },
  {
   "cell_type": "code",
   "execution_count": null,
   "id": "69524d76",
   "metadata": {},
   "outputs": [],
   "source": []
  }
 ],
 "metadata": {
  "kernelspec": {
   "display_name": "Python 3 (ipykernel)",
   "language": "python",
   "name": "python3"
  },
  "language_info": {
   "codemirror_mode": {
    "name": "ipython",
    "version": 3
   },
   "file_extension": ".py",
   "mimetype": "text/x-python",
   "name": "python",
   "nbconvert_exporter": "python",
   "pygments_lexer": "ipython3",
   "version": "3.7.15"
  }
 },
 "nbformat": 4,
 "nbformat_minor": 5
}
